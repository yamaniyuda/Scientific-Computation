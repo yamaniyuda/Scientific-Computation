{
  "nbformat": 4,
  "nbformat_minor": 0,
  "metadata": {
    "colab": {
      "provenance": [],
      "authorship_tag": "ABX9TyMUZH7PMf5ywR/d05unjvhC",
      "include_colab_link": true
    },
    "kernelspec": {
      "name": "python3",
      "display_name": "Python 3"
    },
    "language_info": {
      "name": "python"
    }
  },
  "cells": [
    {
      "cell_type": "markdown",
      "metadata": {
        "id": "view-in-github",
        "colab_type": "text"
      },
      "source": [
        "<a href=\"https://colab.research.google.com/github/yamaniyuda/Scientific-Computation-/blob/main/numpy.ipynb\" target=\"_parent\"><img src=\"https://colab.research.google.com/assets/colab-badge.svg\" alt=\"Open In Colab\"/></a>"
      ]
    },
    {
      "cell_type": "markdown",
      "source": [
        "# Operasi Aritmatika (elementwise operation)"
      ],
      "metadata": {
        "id": "vFkVAYRbjUFF"
      }
    },
    {
      "cell_type": "code",
      "execution_count": null,
      "metadata": {
        "id": "A9roPE-ti5Dq"
      },
      "outputs": [],
      "source": [
        "import numpy as np\n",
        "\n",
        "a = np.array([1,2,3,4,5])\n",
        "b = np.array([6,7,8,9,10])\n",
        "\n",
        "summation = a + b\n",
        "print(summation)\n",
        "\n",
        "minus = a - b\n",
        "print(a - b)\n",
        "\n",
        "multiplication = a * b\n",
        "print(multiplication)\n",
        "\n",
        "devide = a / b\n",
        "print(devide)"
      ]
    },
    {
      "cell_type": "markdown",
      "source": [
        "# Indexing, Slicing, Iterai"
      ],
      "metadata": {
        "id": "0U9BliPeqBq4"
      }
    },
    {
      "cell_type": "code",
      "source": [
        "import numpy as np\n",
        "\n",
        "a = np.arange(10)**2\n",
        "print(a)\n",
        "\n",
        "# get value by index\n",
        "print(f'elemnt index 1 : {a[0]}')\n",
        "\n",
        "# slicing\n",
        "print(f'get element from 1 to 5 : {a[:6]}')\n",
        "\n",
        "# iterasi\n",
        "for i in a:\n",
        "  print(f'iterasi = {i}')"
      ],
      "metadata": {
        "colab": {
          "base_uri": "https://localhost:8080/"
        },
        "collapsed": true,
        "id": "RgNgTDDxqAmc",
        "outputId": "e642e3fa-21c2-4aaf-fcc5-04a94aaa2e6e"
      },
      "execution_count": 8,
      "outputs": [
        {
          "output_type": "stream",
          "name": "stdout",
          "text": [
            "[ 0  1  4  9 16 25 36 49 64 81]\n",
            "elemnt index 1 : 0\n",
            "get element from 1 to 5 : [ 0  1  4  9 16 25]\n",
            "iterasi = 0\n",
            "iterasi = 1\n",
            "iterasi = 4\n",
            "iterasi = 9\n",
            "iterasi = 16\n",
            "iterasi = 25\n",
            "iterasi = 36\n",
            "iterasi = 49\n",
            "iterasi = 64\n",
            "iterasi = 81\n"
          ]
        }
      ]
    },
    {
      "cell_type": "markdown",
      "source": [
        "# Multiplication Matrix"
      ],
      "metadata": {
        "id": "WwQwk70Zrmo5"
      }
    },
    {
      "cell_type": "code",
      "source": [
        "import numpy as np\n",
        "\n",
        "a = np.array((\n",
        "      [1,2],\n",
        "      [3,4]\n",
        "    ))\n",
        "\n",
        "b = np.ones([2,2])\n",
        "\n",
        "c1 = np.dot(a,b)\n",
        "c2 = a.dot(b)\n",
        "\n",
        "print(f'matrix a \\n{a}')\n",
        "print(f'matrix b \\n{b}')\n",
        "print(f'matrix a * b \\n{c1}')\n",
        "print(f'matrix a * b \\n{c2}')"
      ],
      "metadata": {
        "colab": {
          "base_uri": "https://localhost:8080/"
        },
        "collapsed": true,
        "id": "In8xLY7yrqKJ",
        "outputId": "d1ccdb55-1420-41aa-f0a3-8d7f222de60c"
      },
      "execution_count": 12,
      "outputs": [
        {
          "output_type": "stream",
          "name": "stdout",
          "text": [
            "matrix a \n",
            "[[1 2]\n",
            " [3 4]]\n",
            "matrix b \n",
            "[[1. 1.]\n",
            " [1. 1.]]\n",
            "matrix a * b \n",
            "[[3. 3.]\n",
            " [7. 7.]]\n",
            "matrix a * b \n",
            "[[3. 3.]\n",
            " [7. 7.]]\n"
          ]
        }
      ]
    },
    {
      "cell_type": "markdown",
      "source": [
        "# Shape Manipulation"
      ],
      "metadata": {
        "id": "YafnjQ7Wt4gi"
      }
    },
    {
      "cell_type": "code",
      "source": [
        "import numpy as np\n",
        "\n",
        "a = np.array((\n",
        "    [1,2,3],\n",
        "    [4,5,6]\n",
        "))\n",
        "\n",
        "print(f'matrix a dengan ukuran: {a.shape}')\n",
        "print(a)\n",
        "\n",
        "# transpose matrix\n",
        "print('transpose matrix dari a:')\n",
        "print(np.transpose(a))\n",
        "print(a.transpose())\n",
        "\n",
        "# flatten array, vector line\n",
        "print('flatten matrix a:')\n",
        "print(np.ravel(a))\n",
        "print(a.ravel())\n",
        "\n",
        "# reshape matrix\n",
        "print('reshape matrix a:')\n",
        "print(a.reshape(3,2))\n",
        "\n",
        "# resize matrix\n",
        "print('resize matrix a:')\n",
        "a.resize(3,2)\n",
        "print(a)"
      ],
      "metadata": {
        "colab": {
          "base_uri": "https://localhost:8080/"
        },
        "collapsed": true,
        "id": "hWLMoaOet71t",
        "outputId": "a052f2cb-9474-48ad-df98-8a9692fb0b54"
      },
      "execution_count": 13,
      "outputs": [
        {
          "output_type": "stream",
          "name": "stdout",
          "text": [
            "matrix a dengan ukuran: (2, 3)\n",
            "[[1 2 3]\n",
            " [4 5 6]]\n",
            "transpose matrix dari a:\n",
            "[[1 4]\n",
            " [2 5]\n",
            " [3 6]]\n",
            "[[1 4]\n",
            " [2 5]\n",
            " [3 6]]\n",
            "flatten matrix a:\n",
            "[1 2 3 4 5 6]\n",
            "[1 2 3 4 5 6]\n",
            "reshape matrix a:\n",
            "[[1 2]\n",
            " [3 4]\n",
            " [5 6]]\n",
            "resize matrix a:\n",
            "[[1 2]\n",
            " [3 4]\n",
            " [5 6]]\n"
          ]
        }
      ]
    }
  ]
}