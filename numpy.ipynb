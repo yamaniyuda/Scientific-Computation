{
  "nbformat": 4,
  "nbformat_minor": 0,
  "metadata": {
    "colab": {
      "provenance": [],
      "toc_visible": true,
      "authorship_tag": "ABX9TyMAryZDkRCyhOiGNqVHKwYT",
      "include_colab_link": true
    },
    "kernelspec": {
      "name": "python3",
      "display_name": "Python 3"
    },
    "language_info": {
      "name": "python"
    }
  },
  "cells": [
    {
      "cell_type": "markdown",
      "metadata": {
        "id": "view-in-github",
        "colab_type": "text"
      },
      "source": [
        "<a href=\"https://colab.research.google.com/github/yamaniyuda/Scientific-Computation/blob/main/numpy.ipynb\" target=\"_parent\"><img src=\"https://colab.research.google.com/assets/colab-badge.svg\" alt=\"Open In Colab\"/></a>"
      ]
    },
    {
      "cell_type": "markdown",
      "source": [
        "# Operasi Aritmatika (elementwise operation)"
      ],
      "metadata": {
        "id": "vFkVAYRbjUFF"
      }
    },
    {
      "cell_type": "code",
      "execution_count": null,
      "metadata": {
        "id": "A9roPE-ti5Dq"
      },
      "outputs": [],
      "source": [
        "import numpy as np\n",
        "\n",
        "a = np.array([1,2,3,4,5])\n",
        "b = np.array([6,7,8,9,10])\n",
        "\n",
        "summation = a + b\n",
        "print(summation)\n",
        "\n",
        "minus = a - b\n",
        "print(a - b)\n",
        "\n",
        "multiplication = a * b\n",
        "print(multiplication)\n",
        "\n",
        "devide = a / b\n",
        "print(devide)"
      ]
    },
    {
      "cell_type": "markdown",
      "source": [
        "# Indexing, Slicing, Iterai"
      ],
      "metadata": {
        "id": "0U9BliPeqBq4"
      }
    },
    {
      "cell_type": "code",
      "source": [
        "import numpy as np\n",
        "\n",
        "a = np.arange(10)**2\n",
        "print(a)\n",
        "\n",
        "# get value by index\n",
        "print(f'elemnt index 1 : {a[0]}')\n",
        "\n",
        "# slicing\n",
        "print(f'get element from 1 to 5 : {a[:6]}')\n",
        "\n",
        "# iterasi\n",
        "for i in a:\n",
        "  print(f'iterasi = {i}')"
      ],
      "metadata": {
        "colab": {
          "base_uri": "https://localhost:8080/"
        },
        "collapsed": true,
        "id": "RgNgTDDxqAmc",
        "outputId": "e642e3fa-21c2-4aaf-fcc5-04a94aaa2e6e"
      },
      "execution_count": null,
      "outputs": [
        {
          "output_type": "stream",
          "name": "stdout",
          "text": [
            "[ 0  1  4  9 16 25 36 49 64 81]\n",
            "elemnt index 1 : 0\n",
            "get element from 1 to 5 : [ 0  1  4  9 16 25]\n",
            "iterasi = 0\n",
            "iterasi = 1\n",
            "iterasi = 4\n",
            "iterasi = 9\n",
            "iterasi = 16\n",
            "iterasi = 25\n",
            "iterasi = 36\n",
            "iterasi = 49\n",
            "iterasi = 64\n",
            "iterasi = 81\n"
          ]
        }
      ]
    },
    {
      "cell_type": "markdown",
      "source": [
        "# Multiplication Matrix"
      ],
      "metadata": {
        "id": "WwQwk70Zrmo5"
      }
    },
    {
      "cell_type": "code",
      "source": [
        "import numpy as np\n",
        "\n",
        "a = np.array((\n",
        "      [1,2],\n",
        "      [3,4]\n",
        "    ))\n",
        "\n",
        "b = np.ones([2,2])\n",
        "\n",
        "c1 = np.dot(a,b)\n",
        "c2 = a.dot(b)\n",
        "\n",
        "print(f'matrix a \\n{a}')\n",
        "print(f'matrix b \\n{b}')\n",
        "print(f'matrix a * b \\n{c1}')\n",
        "print(f'matrix a * b \\n{c2}')"
      ],
      "metadata": {
        "colab": {
          "base_uri": "https://localhost:8080/"
        },
        "collapsed": true,
        "id": "In8xLY7yrqKJ",
        "outputId": "d1ccdb55-1420-41aa-f0a3-8d7f222de60c"
      },
      "execution_count": null,
      "outputs": [
        {
          "output_type": "stream",
          "name": "stdout",
          "text": [
            "matrix a \n",
            "[[1 2]\n",
            " [3 4]]\n",
            "matrix b \n",
            "[[1. 1.]\n",
            " [1. 1.]]\n",
            "matrix a * b \n",
            "[[3. 3.]\n",
            " [7. 7.]]\n",
            "matrix a * b \n",
            "[[3. 3.]\n",
            " [7. 7.]]\n"
          ]
        }
      ]
    },
    {
      "cell_type": "markdown",
      "source": [
        "# Shape Manipulation"
      ],
      "metadata": {
        "id": "YafnjQ7Wt4gi"
      }
    },
    {
      "cell_type": "code",
      "source": [
        "import numpy as np\n",
        "\n",
        "a = np.array((\n",
        "    [1,2,3],\n",
        "    [4,5,6]\n",
        "))\n",
        "\n",
        "print(f'matrix a dengan ukuran: {a.shape}')\n",
        "print(a)\n",
        "\n",
        "# transpose matrix\n",
        "print('transpose matrix dari a:')\n",
        "print(np.transpose(a))\n",
        "print(a.transpose())\n",
        "\n",
        "# flatten array, vector line\n",
        "print('flatten matrix a:')\n",
        "print(np.ravel(a))\n",
        "print(a.ravel())\n",
        "\n",
        "# reshape matrix\n",
        "print('reshape matrix a:')\n",
        "print(a.reshape(3,2))\n",
        "\n",
        "# resize matrix\n",
        "print('resize matrix a:')\n",
        "a.resize(3,2)\n",
        "print(a)"
      ],
      "metadata": {
        "colab": {
          "base_uri": "https://localhost:8080/"
        },
        "collapsed": true,
        "id": "hWLMoaOet71t",
        "outputId": "a052f2cb-9474-48ad-df98-8a9692fb0b54"
      },
      "execution_count": null,
      "outputs": [
        {
          "output_type": "stream",
          "name": "stdout",
          "text": [
            "matrix a dengan ukuran: (2, 3)\n",
            "[[1 2 3]\n",
            " [4 5 6]]\n",
            "transpose matrix dari a:\n",
            "[[1 4]\n",
            " [2 5]\n",
            " [3 6]]\n",
            "[[1 4]\n",
            " [2 5]\n",
            " [3 6]]\n",
            "flatten matrix a:\n",
            "[1 2 3 4 5 6]\n",
            "[1 2 3 4 5 6]\n",
            "reshape matrix a:\n",
            "[[1 2]\n",
            " [3 4]\n",
            " [5 6]]\n",
            "resize matrix a:\n",
            "[[1 2]\n",
            " [3 4]\n",
            " [5 6]]\n"
          ]
        }
      ]
    },
    {
      "cell_type": "markdown",
      "source": [
        "# Stacking Matrix"
      ],
      "metadata": {
        "id": "9qABnkedxajD"
      }
    },
    {
      "cell_type": "code",
      "source": [
        "import numpy as np\n",
        "\n",
        "a = np.array([1,2,3])\n",
        "b = np.array([4,5,6])\n",
        "\n",
        "aMat = np.zeros((2,3))\n",
        "bMat = np.ones((2,3))\n",
        "\n",
        "# stacking matrix, menumpuk matrix\n",
        "h = np.hstack((a,b))\n",
        "v = np.vstack((a,b))\n",
        "\n",
        "hMat = np.hstack((aMat, bMat))\n",
        "vMat = np.vstack((aMat, bMat))\n",
        "\n",
        "print(h)\n",
        "print(v)\n",
        "print(hMat)\n",
        "print(vMat)"
      ],
      "metadata": {
        "colab": {
          "base_uri": "https://localhost:8080/"
        },
        "collapsed": true,
        "id": "n5NBqI9Ixe6g",
        "outputId": "5a9035a1-b7b4-442e-9326-fddc6e9036e5"
      },
      "execution_count": null,
      "outputs": [
        {
          "output_type": "stream",
          "name": "stdout",
          "text": [
            "[1 2 3 4 5 6]\n",
            "[[1 2 3]\n",
            " [4 5 6]]\n",
            "[[0. 0. 0. 1. 1. 1.]\n",
            " [0. 0. 0. 1. 1. 1.]]\n",
            "[[0. 0. 0.]\n",
            " [0. 0. 0.]\n",
            " [1. 1. 1.]\n",
            " [1. 1. 1.]]\n"
          ]
        }
      ]
    },
    {
      "cell_type": "markdown",
      "source": [
        "# Advance Create List"
      ],
      "metadata": {
        "id": "kVTvlx4Py4aS"
      }
    },
    {
      "cell_type": "code",
      "source": [
        "import numpy as np\n",
        "\n",
        "iterable = (x*2 for x in range(5))\n",
        "\n",
        "def squre(row, column):\n",
        "  return column ** 2\n",
        "\n",
        "a = np.fromfunction(squre, (1, 10), dtype = int)\n",
        "b = np.fromfunction(lambda a, b: a + b, (4,4), dtype = int)\n",
        "c = np.fromiter(iterable, dtype = int)\n",
        "\n",
        "print(a)\n",
        "print(b)\n",
        "print(c)\n",
        "\n",
        "# s255 = string length 255\n",
        "# custom array\n",
        "dtipe = [('nama', 'S255'), ('tinggi', int)]\n",
        "data = [\n",
        "    ('ucup', 150),\n",
        "    ('yamani', 175),\n",
        "    ('mario', 160)\n",
        "]\n",
        "\n",
        "d = np.array(data, dtype = dtipe)\n",
        "print(d)"
      ],
      "metadata": {
        "colab": {
          "base_uri": "https://localhost:8080/"
        },
        "collapsed": true,
        "id": "MbkhbjSRzAbD",
        "outputId": "31227b2e-d245-41d7-9a0c-70e61d571163"
      },
      "execution_count": null,
      "outputs": [
        {
          "output_type": "stream",
          "name": "stdout",
          "text": [
            "[[ 0  1  4  9 16 25 36 49 64 81]]\n",
            "[[0 1 2 3]\n",
            " [1 2 3 4]\n",
            " [2 3 4 5]\n",
            " [3 4 5 6]]\n",
            "[0 2 4 6 8]\n",
            "[(b'ucup', 150) (b'yamani', 175) (b'mario', 160)]\n"
          ]
        }
      ]
    },
    {
      "cell_type": "markdown",
      "source": [
        "# Ordering"
      ],
      "metadata": {
        "id": "civYcAcX5L_h"
      }
    },
    {
      "cell_type": "code",
      "source": [
        "import numpy as np\n",
        "\n",
        "a = np.floor(np.random.randn(1,6) * 10)\n",
        "\n",
        "print(a)\n",
        "\n",
        "# get value\n",
        "print(f'nilai max daari a = {a.max()}')\n",
        "print(f'posisi max dari a = {a.argmax()}')\n",
        "print(f'nilai min dari a = {a.min()}')\n",
        "print(f'posisi min dari a = {a.argmin()}')\n",
        "\n",
        "# sort\n",
        "print('mengurutkan nilai a:')\n",
        "print(np.sort(a))\n",
        "print(np.argsort(a))"
      ],
      "metadata": {
        "colab": {
          "base_uri": "https://localhost:8080/"
        },
        "id": "2FXDc_kK5PAa",
        "outputId": "d303135a-2180-4c86-9024-bb64b2960aaf"
      },
      "execution_count": null,
      "outputs": [
        {
          "output_type": "stream",
          "name": "stdout",
          "text": [
            "[[  3.  -4.  -4. -11.  10.   1.]]\n",
            "nilai max daari a = 10.0\n",
            "posisi max dari a = 4\n",
            "nilai min dari a = -11.0\n",
            "posisi min dari a = 3\n",
            "mengurutkan nilai a:\n",
            "[[-11.  -4.  -4.   1.   3.  10.]]\n",
            "[[3 1 2 5 0 4]]\n"
          ]
        }
      ]
    },
    {
      "cell_type": "code",
      "source": [
        "import numpy as np\n",
        "\n",
        "dtipe = [('nama', 'S10'), ('tinggi', int)]\n",
        "data = [\n",
        "    ('Ucup', 170),\n",
        "    ('Otong', 150),\n",
        "    ('Mario', 160)\n",
        "]\n",
        "\n",
        "a = np.array(data, dtype = dtipe)\n",
        "\n",
        "print(a)\n",
        "print(np.sort(a, order = 'tinggi'))\n",
        "print(np.sort(a, order = 'nama'))"
      ],
      "metadata": {
        "colab": {
          "base_uri": "https://localhost:8080/"
        },
        "id": "gyfag_qUeucS",
        "outputId": "3b5ffcd0-b15c-49bb-a1cc-0e8e3b050cbb"
      },
      "execution_count": null,
      "outputs": [
        {
          "output_type": "stream",
          "name": "stdout",
          "text": [
            "[(b'Ucup', 170) (b'Otong', 150) (b'Mario', 160)]\n",
            "[(b'Otong', 150) (b'Mario', 160) (b'Ucup', 170)]\n",
            "[(b'Mario', 160) (b'Otong', 150) (b'Ucup', 170)]\n"
          ]
        }
      ]
    },
    {
      "cell_type": "markdown",
      "source": [
        "# Vector Multiplication (Dot Product and Cros Product)"
      ],
      "metadata": {
        "id": "KnXuxdMjoFKc"
      }
    },
    {
      "cell_type": "code",
      "source": [
        "import numpy as np\n",
        "\n",
        "a = np.array([1,3,2])\n",
        "b = np.array([3,0,2])\n",
        "\n",
        "# Dot Product (perkalian dot)\n",
        "dot = np.dot(a,b)\n",
        "print(dot)\n",
        "\n",
        "a = np.array([1,2,0])\n",
        "b = np.array([2,1,0])\n",
        "cross = np.cross(a,b)\n",
        "print(cross)"
      ],
      "metadata": {
        "colab": {
          "base_uri": "https://localhost:8080/"
        },
        "id": "JaGBAa3ToT9Q",
        "outputId": "cd6d5e8e-d86e-4cf3-815b-537bc85cecb7"
      },
      "execution_count": 1,
      "outputs": [
        {
          "output_type": "stream",
          "name": "stdout",
          "text": [
            "7\n",
            "[ 0  0 -3]\n"
          ]
        }
      ]
    }
  ]
}