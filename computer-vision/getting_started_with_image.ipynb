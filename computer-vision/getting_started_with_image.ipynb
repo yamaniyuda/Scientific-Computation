{
  "nbformat": 4,
  "nbformat_minor": 0,
  "metadata": {
    "colab": {
      "provenance": [],
      "authorship_tag": "ABX9TyOhhQBOcCFqZoDGC8tcj7+k",
      "include_colab_link": true
    },
    "kernelspec": {
      "name": "python3",
      "display_name": "Python 3"
    },
    "language_info": {
      "name": "python"
    }
  },
  "cells": [
    {
      "cell_type": "markdown",
      "metadata": {
        "id": "view-in-github",
        "colab_type": "text"
      },
      "source": [
        "<a href=\"https://colab.research.google.com/github/yamaniyuda/Scientific-Computation/blob/main/computer-vision/getting_started_with_image.ipynb\" target=\"_parent\"><img src=\"https://colab.research.google.com/assets/colab-badge.svg\" alt=\"Open In Colab\"/></a>"
      ]
    },
    {
      "cell_type": "markdown",
      "source": [
        "# **Getting started with image**\n",
        "*   Reading an image\n",
        "*   Check image attributes like datatype and shape\n",
        "*   Matrix representation of an image in Numpy\n",
        "*   Color images and aplitting/merging image channels\n",
        "*   Displaying images using matplotlib\n",
        "*   Saving images"
      ],
      "metadata": {
        "id": "vk7Hz8dGmp4R"
      }
    },
    {
      "cell_type": "code",
      "execution_count": 4,
      "metadata": {
        "id": "7p6pTt6Blvzh"
      },
      "outputs": [],
      "source": [
        "import cv2\n",
        "import os\n",
        "import numpy as np\n",
        "import matplotlib.pyplot as plt\n",
        "\n",
        "from zipfile import ZipFile\n",
        "from urllib.request import urlretrieve\n",
        "from IPython.display import Image\n",
        "\n",
        "%matplotlib inline"
      ]
    },
    {
      "cell_type": "markdown",
      "source": [
        "# **Download Assets**\n"
      ],
      "metadata": {
        "id": "Cn5hlmvaCrE1"
      }
    },
    {
      "cell_type": "markdown",
      "source": [
        "The `download_and_unzip(...)` is used to download and extract the notebook assests."
      ],
      "metadata": {
        "id": "QB5bo7StDPvB"
      }
    },
    {
      "cell_type": "code",
      "source": [
        "def download_and_unzip(url, save_path):\n",
        "  print(f\"Downloading and extracting assets...\", end=\"\")\n",
        "\n",
        "  # Downloading zip file using urllib package.\n",
        "  urlretrieve(url, save_path)\n",
        "\n",
        "  try:\n",
        "    # Extracting zip file using the zipfile package\n",
        "    with ZipFile(save_path) as z:\n",
        "      # Extract ZIP file contents in the same directory.\n",
        "      print(os.path.split(save_path))\n",
        "      z.extractall(os.path.split(save_path)[0])\n",
        "\n",
        "    print(\"Done\")\n",
        "  except Exception as e:\n",
        "    print(\"\\nInvalid file.\", e)"
      ],
      "metadata": {
        "id": "lnS8iGspDUQL"
      },
      "execution_count": 5,
      "outputs": []
    },
    {
      "cell_type": "code",
      "source": [
        "URL = r\"https://www.dropbox.com/s/qhhlqcica1nvtaw/opencv_bootcamp_assets_NB1.zip?dl=1\"\n",
        "\n",
        "asset_zip_path = os.path.join(os.getcwd(), f\"learn-computer-vision/started-with-image/opencv_bootcamp_assets_NB1.zip\")\n",
        "\n",
        "# Download if assets ZIP does not exists.\n",
        "if  not os.path.exists(asset_zip_path):\n",
        "  download_and_unzip(URL, asset_zip_path)"
      ],
      "metadata": {
        "colab": {
          "base_uri": "https://localhost:8080/"
        },
        "id": "dMe__W--HfDU",
        "outputId": "febe76e4-fb79-4193-ddba-6aca317780dd"
      },
      "execution_count": 6,
      "outputs": [
        {
          "output_type": "stream",
          "name": "stdout",
          "text": [
            "Downloading and extracting assets...('/content/learn-computer-vision/started-with-image', 'opencv_bootcamp_assets_NB1.zip')\n",
            "Done\n"
          ]
        }
      ]
    },
    {
      "cell_type": "markdown",
      "source": [
        "# **Display Image Directly**\n",
        "We will use the following as our sample images. We will use the ipython image function to load and display the image."
      ],
      "metadata": {
        "id": "7XEvcV2PIpc_"
      }
    },
    {
      "cell_type": "code",
      "source": [
        "# Display 18x18 pixel image.\n",
        "Image(filename='learn-computer-vision/started-with-image/checkerboard_18x18.png')"
      ],
      "metadata": {
        "colab": {
          "base_uri": "https://localhost:8080/",
          "height": 35
        },
        "id": "z1QPd5ccJCDd",
        "outputId": "15420748-d6e4-4916-d7d0-93ade97cc3eb"
      },
      "execution_count": 7,
      "outputs": [
        {
          "output_type": "execute_result",
          "data": {
            "image/png": "[encoded data removed]",
            "text/plain": [
              "<IPython.core.display.Image object>"
            ]
          },
          "metadata": {},
          "execution_count": 7
        }
      ]
    },
    {
      "cell_type": "code",
      "source": [
        "# Display 84x84 pixel image.\n",
        "Image(filename='learn-computer-vision/started-with-image/checkerboard_84x84.jpg')"
      ],
      "metadata": {
        "colab": {
          "base_uri": "https://localhost:8080/",
          "height": 101
        },
        "id": "2MB351QeL1OU",
        "outputId": "080a5183-f5ac-49cc-d8c5-b07a413fee37"
      },
      "execution_count": 8,
      "outputs": [
        {
          "output_type": "execute_result",
          "data": {
            "image/jpeg": "[encoded data removed]",
            "text/plain": [
              "<IPython.core.display.Image object>"
            ]
          },
          "metadata": {},
          "execution_count": 8
        }
      ]
    },
    {
      "cell_type": "markdown",
      "source": [
        "# **Reading images using OpenCV**\n",
        "OpenCV allows reading different type of images (JPG,PNG,etc). You can load grascale images, color images or you can also load images with Alpha channel. It uses the 'cv2.imread()' function which has the following sysntax.\n",
        "\n",
        "### <font color=\"green\">Function Syntax </font>\n",
        "``` python\n",
        "retval = cv2.imread( filename[, flags] )\n",
        "```\n",
        "`retval` : Is the image if it is successfully loaded. Otherwise it is `None`. This may happen if the filename is wrong or the file is corrupt.\n",
        "\n",
        "The function has **1 required input argument** and one optional flag:\n",
        "\n",
        "\n",
        "1.   `filename` : This can be an **absolute** or **relatie** path. This is a `mandatory argument`\n",
        "2.   `Flags` : These flags are used to read an image in a particular format (for example, grayscale/color/with alpa channel). This is an **optional argument** with a default value of `cv2.IMREAD_COLOR` or `1` which loads the images as a color image.\n",
        "Before we proceed with somme examples, let's also have a look at some of the `flags` availabe\n",
        "\n",
        "**Flags**\n",
        "\n",
        "\n",
        "1.   `Imread` : [Documentation link](https://docs.opencv.org/4.5.1/d4/da8/group__imgcodecs.html#ga288b8b3da0892bd651fce07b3bbd3a56)\n",
        "2.   `ImreadModes` : [Documentation link](https://docs.opencv.org/4.5.1/d8/d6a/group__imgcodecs__flags.html#ga61d9b0126a3e57d9277ac48327799c80)"
      ],
      "metadata": {
        "id": "KdfPSiLwMOxi"
      }
    },
    {
      "cell_type": "code",
      "source": [
        "# Read image as gray scale.\n",
        "cb_img = cv2.imread('learn-computer-vision/started-with-image/checkerboard_18x18.png', 0)\n",
        "\n",
        "# Print the image data (pixel values), element of a 2D numpy array.\n",
        "# Each pixel value is 8-bits [0, 255]\n",
        "print(cb_img)"
      ],
      "metadata": {
        "colab": {
          "base_uri": "https://localhost:8080/"
        },
        "id": "WmcAHrvnOTTD",
        "outputId": "f1c7e5ad-a32f-43b5-c4d6-c7bff4812d5d"
      },
      "execution_count": 9,
      "outputs": [
        {
          "output_type": "stream",
          "name": "stdout",
          "text": [
            "[[  0   0   0   0   0   0 255 255 255 255 255 255   0   0   0   0   0   0]\n",
            " [  0   0   0   0   0   0 255 255 255 255 255 255   0   0   0   0   0   0]\n",
            " [  0   0   0   0   0   0 255 255 255 255 255 255   0   0   0   0   0   0]\n",
            " [  0   0   0   0   0   0 255 255 255 255 255 255   0   0   0   0   0   0]\n",
            " [  0   0   0   0   0   0 255 255 255 255 255 255   0   0   0   0   0   0]\n",
            " [  0   0   0   0   0   0 255 255 255 255 255 255   0   0   0   0   0   0]\n",
            " [255 255 255 255 255 255   0   0   0   0   0   0 255 255 255 255 255 255]\n",
            " [255 255 255 255 255 255   0   0   0   0   0   0 255 255 255 255 255 255]\n",
            " [255 255 255 255 255 255   0   0   0   0   0   0 255 255 255 255 255 255]\n",
            " [255 255 255 255 255 255   0   0   0   0   0   0 255 255 255 255 255 255]\n",
            " [255 255 255 255 255 255   0   0   0   0   0   0 255 255 255 255 255 255]\n",
            " [255 255 255 255 255 255   0   0   0   0   0   0 255 255 255 255 255 255]\n",
            " [  0   0   0   0   0   0 255 255 255 255 255 255   0   0   0   0   0   0]\n",
            " [  0   0   0   0   0   0 255 255 255 255 255 255   0   0   0   0   0   0]\n",
            " [  0   0   0   0   0   0 255 255 255 255 255 255   0   0   0   0   0   0]\n",
            " [  0   0   0   0   0   0 255 255 255 255 255 255   0   0   0   0   0   0]\n",
            " [  0   0   0   0   0   0 255 255 255 255 255 255   0   0   0   0   0   0]\n",
            " [  0   0   0   0   0   0 255 255 255 255 255 255   0   0   0   0   0   0]]\n"
          ]
        }
      ]
    },
    {
      "cell_type": "markdown",
      "source": [
        "# Display Image attributes"
      ],
      "metadata": {
        "id": "C2LZaMx9RvXI"
      }
    },
    {
      "cell_type": "code",
      "source": [
        "# print the size of image\n",
        "print('Image size (H, W) is:', cb_img.shape)\n",
        "\n",
        "# print data-type of image\n",
        "print('Data type of image is:', cb_img.dtype)"
      ],
      "metadata": {
        "colab": {
          "base_uri": "https://localhost:8080/"
        },
        "id": "h2yXDbGdSQ_U",
        "outputId": "fb67c4e8-af6c-472e-85ef-ee19795ace4f"
      },
      "execution_count": 10,
      "outputs": [
        {
          "output_type": "stream",
          "name": "stdout",
          "text": [
            "Image size (H, W) is: (18, 18)\n",
            "Data type of image is: uint8\n"
          ]
        }
      ]
    },
    {
      "cell_type": "markdown",
      "source": [
        "# Display Images using Matplotlib"
      ],
      "metadata": {
        "id": "5XFXLNfmSt1y"
      }
    },
    {
      "cell_type": "code",
      "source": [
        "# Display image.\n",
        "plt.imshow(cb_img)"
      ],
      "metadata": {
        "colab": {
          "base_uri": "https://localhost:8080/",
          "height": 449
        },
        "id": "mxbinCwOSyh7",
        "outputId": "f158e89d-84b0-4ffb-bfec-a3a3b874adef"
      },
      "execution_count": 11,
      "outputs": [
        {
          "output_type": "execute_result",
          "data": {
            "text/plain": [
              "<matplotlib.image.AxesImage at 0x7ce4ac429990>"
            ]
          },
          "metadata": {},
          "execution_count": 11
        },
        {
          "output_type": "display_data",
          "data": {
            "text/plain": [
              "<Figure size 640x480 with 1 Axes>"
            ],
            "image/png": "[encoded data removed]"
          },
          "metadata": {}
        }
      ]
    },
    {
      "cell_type": "markdown",
      "source": [
        "# What happened\n",
        "Even though the image was read in as a gray scale image, it won't necessarily display in gray scale when using `imshow()` . Matplotlib uses different color maps and it's possible that the gray scale color map is not set."
      ],
      "metadata": {
        "id": "ksMEtU7SToF-"
      }
    },
    {
      "cell_type": "code",
      "source": [
        "# Set color map  to gray scale for proper rendering\n",
        "plt.imshow(cb_img, cmap=\"gray\")"
      ],
      "metadata": {
        "colab": {
          "base_uri": "https://localhost:8080/",
          "height": 449
        },
        "id": "C1QXXxZQUSZi",
        "outputId": "612cd883-fd6c-4770-b7ac-744fcf884a67"
      },
      "execution_count": 12,
      "outputs": [
        {
          "output_type": "execute_result",
          "data": {
            "text/plain": [
              "<matplotlib.image.AxesImage at 0x7ce4aa256680>"
            ]
          },
          "metadata": {},
          "execution_count": 12
        },
        {
          "output_type": "display_data",
          "data": {
            "text/plain": [
              "<Figure size 640x480 with 1 Axes>"
            ],
            "image/png": "[encoded data removed]"
          },
          "metadata": {}
        }
      ]
    },
    {
      "cell_type": "markdown",
      "source": [
        "# Another example"
      ],
      "metadata": {
        "id": "vJyECTfGUpFd"
      }
    },
    {
      "cell_type": "code",
      "source": [
        "# Read image as gray scale.\n",
        "cb_img_fuzzy = cv2.imread(\"learn-computer-vision/started-with-image/checkerboard_fuzzy_18x18.jpg\", 0)\n",
        "\n",
        "# print image\n",
        "print(cb_img_fuzzy)\n",
        "\n",
        "# Display image.\n",
        "plt.imshow(cb_img_fuzzy, cmap=\"gray\")"
      ],
      "metadata": {
        "colab": {
          "base_uri": "https://localhost:8080/",
          "height": 788
        },
        "id": "JPvC3oERUrlO",
        "outputId": "00626cb1-4ce0-4fb0-f3bf-7237245ceaf5"
      },
      "execution_count": 13,
      "outputs": [
        {
          "output_type": "stream",
          "name": "stdout",
          "text": [
            "[[  0   0  15  20   1 134 233 253 253 253 255 229 130   1  29   2   0   0]\n",
            " [  0   1   5  18   0 137 232 255 254 247 255 228 129   0  24   2   0   0]\n",
            " [  7   5   2  28   2 139 230 254 255 249 255 226 128   0  27   3   2   2]\n",
            " [ 25  27  28  38   0 129 236 255 253 249 251 227 129   0  36  27  27  27]\n",
            " [  2   0   0   4   2 130 239 254 254 254 255 230 126   0   4   2   0   0]\n",
            " [132 129 131 124 121 163 211 226 227 225 226 203 164 125 125 129 131 131]\n",
            " [234 227 230 229 232 205 151 115 125 124 117 156 205 232 229 225 228 228]\n",
            " [254 255 255 251 255 222 102   1   0   0   0 120 225 255 254 255 255 255]\n",
            " [254 255 254 255 253 225 104   0  50  46   0 120 233 254 247 253 251 253]\n",
            " [252 250 250 253 254 223 105   2  45  50   0 127 223 255 251 255 251 253]\n",
            " [254 255 255 252 255 226 104   0   1   1   0 120 229 255 255 254 255 255]\n",
            " [233 235 231 233 234 207 142 106 108 102 108 146 207 235 237 232 231 231]\n",
            " [132 132 131 132 130 175 207 223 224 224 224 210 165 134 130 136 134 134]\n",
            " [  1   1   3   0   0 129 238 255 254 252 255 233 126   0   0   0   0   0]\n",
            " [ 20  19  30  40   5 130 236 253 252 249 255 224 129   0  39  23  21  21]\n",
            " [ 12   6   7  27   0 131 234 255 254 250 254 230 123   1  28   5  10  10]\n",
            " [  0   0   9  22   1 133 233 255 253 253 254 230 129   1  26   2   0   0]\n",
            " [  0   0   9  22   1 132 233 255 253 253 254 230 129   1  26   2   0   0]]\n"
          ]
        },
        {
          "output_type": "execute_result",
          "data": {
            "text/plain": [
              "<matplotlib.image.AxesImage at 0x7ce4aa2f9b10>"
            ]
          },
          "metadata": {},
          "execution_count": 13
        },
        {
          "output_type": "display_data",
          "data": {
            "text/plain": [
              "<Figure size 640x480 with 1 Axes>"
            ],
            "image/png": "[encoded data removed]"
          },
          "metadata": {}
        }
      ]
    },
    {
      "cell_type": "markdown",
      "source": [
        "# Working with Colro Images"
      ],
      "metadata": {
        "id": "pK6KwpPUVMCz"
      }
    },
    {
      "cell_type": "markdown",
      "source": [
        "Until now,  we have been using gray scale images in our discussion. Let us now discuss color images."
      ],
      "metadata": {
        "id": "2UdDB378VP3q"
      }
    },
    {
      "cell_type": "code",
      "source": [
        "#"
      ],
      "metadata": {
        "id": "2CArfLatVeSS"
      },
      "execution_count": 14,
      "outputs": []
    }
  ]
}